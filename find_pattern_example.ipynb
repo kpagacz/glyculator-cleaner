{
 "metadata": {
  "language_info": {
   "codemirror_mode": {
    "name": "ipython",
    "version": 3
   },
   "file_extension": ".py",
   "mimetype": "text/x-python",
   "name": "python",
   "nbconvert_exporter": "python",
   "pygments_lexer": "ipython3",
   "version": "3.6.7-final"
  },
  "orig_nbformat": 2,
  "kernelspec": {
   "name": "97295252-7736-4f1f-9569-5ae483005055",
   "display_name": "'Python Interactive'"
  }
 },
 "nbformat": 4,
 "nbformat_minor": 2,
 "cells": [
  {
   "cell_type": "markdown",
   "metadata": {},
   "source": [
    "### Introduction\n",
    "This notebook assumes that metronome service is already running locally on default port 5000 and is ready to receive HTTP calls. It will not work if the service is not running.\n",
    "I will present a series of time points and then try to predict whether there is a pattern of points repeating every 5 minutes. "
   ]
  },
  {
   "cell_type": "markdown",
   "metadata": {},
   "source": [
    "### Data generation\n",
    "Firstly, I will generate the series of time points repeating every 5 minutes and then inject some additional random data points into it."
   ]
  },
  {
   "cell_type": "code",
   "execution_count": 4,
   "metadata": {
    "tags": []
   },
   "outputs": [
    {
     "output_type": "stream",
     "name": "stdout",
     "text": "DatetimeIndex(['2020-05-20 12:00:00', '2020-05-20 12:05:00',\n               '2020-05-20 12:10:00', '2020-05-20 12:15:00',\n               '2020-05-20 12:20:00', '2020-05-20 12:25:00',\n               '2020-05-20 12:30:00', '2020-05-20 12:35:00',\n               '2020-05-20 12:40:00', '2020-05-20 12:45:00',\n               '2020-05-20 12:50:00', '2020-05-20 12:55:00',\n               '2020-05-20 13:00:00', '2020-05-20 13:05:00',\n               '2020-05-20 13:10:00', '2020-05-20 13:15:00',\n               '2020-05-20 13:20:00', '2020-05-20 13:25:00',\n               '2020-05-20 13:30:00', '2020-05-20 13:35:00',\n               '2020-05-20 13:40:00', '2020-05-20 13:45:00',\n               '2020-05-20 13:50:00', '2020-05-20 13:55:00',\n               '2020-05-20 14:00:00', '2020-05-20 14:05:00',\n               '2020-05-20 14:10:00', '2020-05-20 14:15:00',\n               '2020-05-20 14:20:00', '2020-05-20 14:25:00',\n               '2020-05-20 14:30:00', '2020-05-20 14:35:00',\n               '2020-05-20 14:40:00', '2020-05-20 14:45:00',\n               '2020-05-20 14:50:00', '2020-05-20 14:55:00',\n               '2020-05-20 15:00:00', '2020-05-20 15:05:00',\n               '2020-05-20 15:10:00', '2020-05-20 15:15:00',\n               '2020-05-20 15:20:00', '2020-05-20 15:25:00',\n               '2020-05-20 15:30:00', '2020-05-20 15:35:00',\n               '2020-05-20 15:40:00', '2020-05-20 15:45:00',\n               '2020-05-20 15:50:00', '2020-05-20 15:55:00',\n               '2020-05-20 16:00:00'],\n              dtype='datetime64[ns]', freq='5T')\n"
    }
   ],
   "source": [
    "import pandas as pd \n",
    "import numpy as np \n",
    "import json \n",
    "import requests\n",
    "\n",
    "\n",
    "data_range = pd.date_range(\"20/05/2020 12:00\", \"20/05/2020 16:00\", freq=\"5min\")\n",
    "print(data_range)"
   ]
  }
 ]
}