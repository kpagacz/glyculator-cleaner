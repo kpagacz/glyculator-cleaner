{
 "metadata": {
  "language_info": {
   "codemirror_mode": {
    "name": "ipython",
    "version": 3
   },
   "file_extension": ".py",
   "mimetype": "text/x-python",
   "name": "python",
   "nbconvert_exporter": "python",
   "pygments_lexer": "ipython3",
   "version": "3.6.7-final"
  },
  "orig_nbformat": 2,
  "kernelspec": {
   "name": "97295252-7736-4f1f-9569-5ae483005055",
   "display_name": "'Python Interactive'"
  }
 },
 "nbformat": 4,
 "nbformat_minor": 2,
 "cells": [
  {
   "cell_type": "markdown",
   "metadata": {},
   "source": [
    "### Introduction\n",
    "This notebook assumes that metronome service is already running locally on default port 5000 and is ready to receive HTTP calls. It will not work if the service is not running.\n",
    "I will present a series of time points and then try to predict whether there is a pattern of points repeating every 5 minutes. "
   ]
  },
  {
   "cell_type": "markdown",
   "metadata": {},
   "source": [
    "### Data generation\n",
    "Firstly, I will generate the series of time points repeating every 5 minutes and at the same time inject some additional random data points into it."
   ]
  },
  {
   "cell_type": "code",
   "execution_count": 1,
   "metadata": {
    "tags": []
   },
   "outputs": [
    {
     "output_type": "execute_result",
     "data": {
      "text/plain": "        times  labels\n0  298.000000       1\n1  424.859045       0\n2  513.230839       0\n3  598.000000       1\n4  898.000000       1",
      "text/html": "<div>\n<style scoped>\n    .dataframe tbody tr th:only-of-type {\n        vertical-align: middle;\n    }\n\n    .dataframe tbody tr th {\n        vertical-align: top;\n    }\n\n    .dataframe thead th {\n        text-align: right;\n    }\n</style>\n<table border=\"1\" class=\"dataframe\">\n  <thead>\n    <tr style=\"text-align: right;\">\n      <th></th>\n      <th>times</th>\n      <th>labels</th>\n    </tr>\n  </thead>\n  <tbody>\n    <tr>\n      <th>0</th>\n      <td>298.000000</td>\n      <td>1</td>\n    </tr>\n    <tr>\n      <th>1</th>\n      <td>424.859045</td>\n      <td>0</td>\n    </tr>\n    <tr>\n      <th>2</th>\n      <td>513.230839</td>\n      <td>0</td>\n    </tr>\n    <tr>\n      <th>3</th>\n      <td>598.000000</td>\n      <td>1</td>\n    </tr>\n    <tr>\n      <th>4</th>\n      <td>898.000000</td>\n      <td>1</td>\n    </tr>\n  </tbody>\n</table>\n</div>"
     },
     "metadata": {},
     "execution_count": 1
    }
   ],
   "source": [
    "import pandas as pd \n",
    "import numpy as np \n",
    "import json \n",
    "import requests\n",
    "\n",
    "np.random.seed(seed=11) # so the results will be reproducible\n",
    "np.set_printoptions(precision=3)\n",
    "\n",
    "interval = 300 # in seconds; equal to 5 minutes\n",
    "differences = []\n",
    "\n",
    "\n",
    "number_of_points_in_pattern = 30\n",
    "times = []\n",
    "labels = []\n",
    "\n",
    "last_pattern = 0\n",
    "for _ in range(number_of_points_in_pattern):\n",
    "    additional_records_number = int(np.random.uniform(low=0, high=5))   # number of points in the noise\n",
    "    additional_records_times = list(np.sort(np.random.uniform(low=5, high=295, size=additional_records_number)) + last_pattern)\n",
    "    last_pattern = last_pattern + interval + int(np.random.uniform(low=-3, high=3)) # let's have some randomness to the pattern\n",
    "\n",
    "    times = times + additional_records_times\n",
    "    times.append(last_pattern)\n",
    "\n",
    "    part_of_pattern = [0] * additional_records_number # 0s for noise\n",
    "    labels = labels + part_of_pattern\n",
    "    labels.append(1)    # for the one point from pattern\n",
    "\n",
    "times_and_labels = pd.DataFrame({ \"times\": times, \"labels\": labels})\n",
    "times_and_labels.head()"
   ]
  },
  {
   "cell_type": "markdown",
   "metadata": {},
   "source": [
    "Here, we have a pattern of points repeating roughly every 300 seconds and some additional points - noise. Let us calculate differences between those points. Differences is the input for Metronome API."
   ]
  },
  {
   "cell_type": "code",
   "execution_count": 2,
   "metadata": {
    "tags": []
   },
   "outputs": [
    {
     "output_type": "stream",
     "name": "stdout",
     "text": "First 10 differences in seconds: [126.859  88.372  84.769 300.     36.533 180.156  35.041  12.502  37.768\n 300.   ]\n"
    }
   ],
   "source": [
    "differences = np.diff(times_and_labels[\"times\"])\n",
    "print(\"First 10 differences in seconds: {}\".format(differences[:10]))"
   ]
  },
  {
   "cell_type": "markdown",
   "metadata": {},
   "source": [
    "### Querying the server\n",
    "The input to the API needs to be a json structure with 15 variables - 14 differences between points and interval key. We will try to predict whether a single point is a part of the pattern."
   ]
  },
  {
   "cell_type": "code",
   "execution_count": 17,
   "metadata": {
    "tags": []
   },
   "outputs": [
    {
     "output_type": "stream",
     "name": "stdout",
     "text": "Point to predict: \ntimes     2136.381757\nlabels       0.000000\nName: 15, dtype: float64\nJSON content of the POST request:\n{\"var0\": 126.85904533044095, \"var1\": 88.3717941352819, \"var2\": 84.76916053427715, \"var3\": 300.0, \"var4\": 36.53346084200268, \"var5\": 180.15623552203476, \"var6\": 35.04087955522846, \"var7\": 12.501633463407643, \"var8\": 37.767790617326455, \"var9\": 300.0, \"var10\": 298.0, \"var11\": 50.794568935731604, \"var12\": 250.2054310642684, \"var13\": 29.346411563396487, \"interval\": 5}\n"
    }
   ],
   "source": [
    "point_to_predict = times_and_labels.iloc[15,:]  # let us get predictions and probabilities about the 15th point\n",
    "print(\"Point to predict: \\n{}\".format(point_to_predict))\n",
    "\n",
    "def prepare_request(time_differences, interval):\n",
    "    payload = {\"var\" + str(i) : difference for i, difference in enumerate(time_differences)}\n",
    "    payload[\"interval\"] = interval\n",
    "\n",
    "    return payload\n",
    "\n",
    "payload = json.dumps(prepare_request(differences[:14], 5))\n",
    "print(\"JSON content of the POST request:\\n{}\".format(payload))"
   ]
  },
  {
   "cell_type": "markdown",
   "metadata": {},
   "source": [
    "Now, assuming the Metronome microservice is running on the default port 5000, we can use requests to query the service. The response from the server is in JSON, so it needs to be loaded first. "
   ]
  },
  {
   "cell_type": "code",
   "execution_count": 16,
   "metadata": {
    "tags": []
   },
   "outputs": [
    {
     "output_type": "stream",
     "name": "stdout",
     "text": "Metronome response:\n{\"probabilities\": [1.47523243620995e-10], \"predictions\": [0]}\n"
    }
   ],
   "source": [
    "response = requests.post(\"http://127.0.0.1:5000/v1/models/metronome\", json=payload)\n",
    "print(\"Metronome response:\\n{}\".format(response.text))\n",
    "\n",
    "probabilities_and_predictions = json.loads(response.text)"
   ]
  },
  {
   "cell_type": "markdown",
   "metadata": {},
   "source": [
    "### Batch requests\n",
    "It is possible to send more than one record at a time by increasing the number of elements in the payload dictionary's lists. Here is an example:"
   ]
  },
  {
   "cell_type": "code",
   "execution_count": 35,
   "metadata": {
    "tags": []
   },
   "outputs": [
    {
     "output_type": "stream",
     "name": "stdout",
     "text": "Points to predict:\n          times  labels\n15  2136.381757       0\n16  2196.451651       0\nBatch of two points to fit:\n{\"var0\": [126.85904533044095, 88.3717941352819], \"var1\": [88.3717941352819, 84.76916053427715], \"var2\": [84.76916053427715, 300.0], \"var3\": [300.0, 36.53346084200268], \"var4\": [36.53346084200268, 180.15623552203476], \"var5\": [180.15623552203476, 35.04087955522846], \"var6\": [35.04087955522846, 12.501633463407643], \"var7\": [12.501633463407643, 37.767790617326455], \"var8\": [37.767790617326455, 300.0], \"var9\": [300.0, 298.0], \"var10\": [298.0, 50.794568935731604], \"var11\": [50.794568935731604, 250.2054310642684], \"var12\": [250.2054310642684, 29.346411563396487], \"var13\": [29.346411563396487, 8.035345715054973], \"interval\": 5}\nBatch probabilities and predictions:\n{'probabilities': [1.4752014887431386e-10, 5.759364398727485e-07], 'predictions': [0, 0]}\n"
    }
   ],
   "source": [
    "from collections import defaultdict\n",
    "\n",
    "points_to_predict = times_and_labels.iloc[15:17, :]\n",
    "print(\"Points to predict:\\n{}\".format(points_to_predict))\n",
    "\n",
    "first_element = prepare_request(differences[:14], 5)\n",
    "second_element = prepare_request(differences[1:15], 5)\n",
    "\n",
    "batch_request = defaultdict(list)\n",
    "for single_request in (first_element, second_element):\n",
    "    for key, value in single_request.items():\n",
    "        batch_request[key].append(value)\n",
    "\n",
    "batch_request[\"interval\"] = 5\n",
    "\n",
    "batch_payload = json.dumps(batch_request)\n",
    "print(\"Batch of two points to fit:\\n{}\".format(batch_payload))\n",
    "\n",
    "batch_response = requests.post(\"http://127.0.0.1:5000/v1/models/metronome\", json=batch_payload)\n",
    "batch_probas_and_predictions = json.loads(batch_response.text)\n",
    "print(\"Batch probabilities and predictions:\\n{}\".format(batch_probas_and_predictions))"
   ]
  }
 ]
}